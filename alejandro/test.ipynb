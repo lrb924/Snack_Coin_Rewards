{
 "cells": [
  {
   "cell_type": "code",
   "execution_count": 14,
   "metadata": {},
   "outputs": [],
   "source": [
    "import json\n",
    "from pathlib import Path\n",
    "from dotenv import load_dotenv\n",
    "from decimal import Decimal\n",
    "\n",
    "from web3 import Web3"
   ]
  },
  {
   "cell_type": "code",
   "execution_count": 15,
   "metadata": {},
   "outputs": [],
   "source": [
    "# Load .env\n",
    "load_dotenv()\n",
    "\n",
    "# Create Web3 instance with Ganache URI\n",
    "w3 = Web3(Web3.HTTPProvider(os.getenv(\"WEB_PROVIDER_URI\")))\n",
    "# st.write(w3.)\n",
    "\n",
    "# Get the acccounts from Ganache\n",
    "accounts = w3.eth.accounts\n",
    "\n",
    "# Load the contract\n",
    "def load_contract():\n",
    "\n",
    "    with open(Path(\"abi.json\")) as abi_:\n",
    "        abi = json.load(abi_)\n",
    "\n",
    "    contract_address = os.getenv(\"SMART_CONTRACT_DEPLOYED_ADDRESS\")\n",
    "\n",
    "    contract = w3.eth.contract(\n",
    "        address=contract_address,\n",
    "        abi=abi\n",
    "    )\n",
    "\n",
    "    return contract\n",
    "\n",
    "contract = load_contract()"
   ]
  },
  {
   "cell_type": "code",
   "execution_count": 16,
   "metadata": {},
   "outputs": [],
   "source": [
    "wallet = accounts[1]\n",
    "order_total = w3.toWei(Decimal(0.012), 'ether')"
   ]
  },
  {
   "cell_type": "code",
   "execution_count": 20,
   "metadata": {},
   "outputs": [],
   "source": [
    "txn_hash = contract.functions.orderSnack(order_total).transact({\n",
    "    'from': wallet,\n",
    "    'value':order_total\n",
    "})\n",
    "receipt = w3.eth.waitForTransactionReceipt(txn_hash)"
   ]
  },
  {
   "cell_type": "code",
   "execution_count": 26,
   "metadata": {},
   "outputs": [
    {
     "data": {
      "text/plain": [
       "[{'constant': False,\n",
       "  'inputs': [{'internalType': 'address',\n",
       "    'name': 'beneficiary',\n",
       "    'type': 'address'}],\n",
       "  'name': 'buyTokens',\n",
       "  'outputs': [],\n",
       "  'payable': True,\n",
       "  'stateMutability': 'payable',\n",
       "  'type': 'function'},\n",
       " {'inputs': [{'internalType': 'uint256', 'name': 'rate', 'type': 'uint256'},\n",
       "   {'internalType': 'address payable', 'name': 'wallet', 'type': 'address'},\n",
       "   {'internalType': 'contract SnackCoin', 'name': 'token', 'type': 'address'}],\n",
       "  'payable': False,\n",
       "  'stateMutability': 'nonpayable',\n",
       "  'type': 'constructor'},\n",
       " {'anonymous': False,\n",
       "  'inputs': [{'indexed': False,\n",
       "    'internalType': 'uint256',\n",
       "    'name': 'order_total',\n",
       "    'type': 'uint256'}],\n",
       "  'name': 'NewOrder',\n",
       "  'type': 'event'},\n",
       " {'constant': False,\n",
       "  'inputs': [{'internalType': 'uint256',\n",
       "    'name': 'order_total',\n",
       "    'type': 'uint256'}],\n",
       "  'name': 'orderSnack',\n",
       "  'outputs': [],\n",
       "  'payable': True,\n",
       "  'stateMutability': 'payable',\n",
       "  'type': 'function'},\n",
       " {'anonymous': False,\n",
       "  'inputs': [{'indexed': True,\n",
       "    'internalType': 'address',\n",
       "    'name': 'purchaser',\n",
       "    'type': 'address'},\n",
       "   {'indexed': True,\n",
       "    'internalType': 'address',\n",
       "    'name': 'beneficiary',\n",
       "    'type': 'address'},\n",
       "   {'indexed': False,\n",
       "    'internalType': 'uint256',\n",
       "    'name': 'value',\n",
       "    'type': 'uint256'},\n",
       "   {'indexed': False,\n",
       "    'internalType': 'uint256',\n",
       "    'name': 'amount',\n",
       "    'type': 'uint256'}],\n",
       "  'name': 'TokensPurchased',\n",
       "  'type': 'event'},\n",
       " {'payable': True, 'stateMutability': 'payable', 'type': 'fallback'},\n",
       " {'constant': True,\n",
       "  'inputs': [],\n",
       "  'name': 'rate',\n",
       "  'outputs': [{'internalType': 'uint256', 'name': '', 'type': 'uint256'}],\n",
       "  'payable': False,\n",
       "  'stateMutability': 'view',\n",
       "  'type': 'function'},\n",
       " {'constant': True,\n",
       "  'inputs': [],\n",
       "  'name': 'token',\n",
       "  'outputs': [{'internalType': 'contract IERC20',\n",
       "    'name': '',\n",
       "    'type': 'address'}],\n",
       "  'payable': False,\n",
       "  'stateMutability': 'view',\n",
       "  'type': 'function'},\n",
       " {'constant': True,\n",
       "  'inputs': [],\n",
       "  'name': 'wallet',\n",
       "  'outputs': [{'internalType': 'address payable',\n",
       "    'name': '',\n",
       "    'type': 'address'}],\n",
       "  'payable': False,\n",
       "  'stateMutability': 'view',\n",
       "  'type': 'function'},\n",
       " {'constant': True,\n",
       "  'inputs': [],\n",
       "  'name': 'weiRaised',\n",
       "  'outputs': [{'internalType': 'uint256', 'name': '', 'type': 'uint256'}],\n",
       "  'payable': False,\n",
       "  'stateMutability': 'view',\n",
       "  'type': 'function'}]"
      ]
     },
     "execution_count": 26,
     "metadata": {},
     "output_type": "execute_result"
    }
   ],
   "source": [
    "contract."
   ]
  },
  {
   "cell_type": "code",
   "execution_count": 21,
   "metadata": {},
   "outputs": [
    {
     "name": "stdout",
     "output_type": "stream",
     "text": [
      "AttributeDict({'transactionHash': HexBytes('0xedd82e52e2cc56409640f9dd0900aa6394afbd782bdf255a323089577c4b3d8d'), 'transactionIndex': 0, 'blockHash': HexBytes('0xb67be37c3a74803fa0d58a9d177c353bdfad1ef4f9b420ed381ff9d36a41d3a0'), 'blockNumber': 26, 'from': '0x64c93047A1d2cB7493f978040fca141D7BCeACCc', 'to': '0xF7a1E3A27A78Cce0f55a42cb276cc970BCe0124D', 'gasUsed': 62568, 'cumulativeGasUsed': 62568, 'contractAddress': None, 'logs': [AttributeDict({'logIndex': 0, 'transactionIndex': 0, 'transactionHash': HexBytes('0xedd82e52e2cc56409640f9dd0900aa6394afbd782bdf255a323089577c4b3d8d'), 'blockHash': HexBytes('0xb67be37c3a74803fa0d58a9d177c353bdfad1ef4f9b420ed381ff9d36a41d3a0'), 'blockNumber': 26, 'address': '0x2025248cCC063Fc493918d369fD73C995488e226', 'data': '0x000000000000000000000000000000000000000000000000a688906bd8b00000', 'topics': [HexBytes('0xddf252ad1be2c89b69c2b068fc378daa952ba7f163c4a11628f55a4df523b3ef'), HexBytes('0x0000000000000000000000000000000000000000000000000000000000000000'), HexBytes('0x00000000000000000000000064c93047a1d2cb7493f978040fca141d7bceaccc')], 'type': 'mined'}), AttributeDict({'logIndex': 1, 'transactionIndex': 0, 'transactionHash': HexBytes('0xedd82e52e2cc56409640f9dd0900aa6394afbd782bdf255a323089577c4b3d8d'), 'blockHash': HexBytes('0xb67be37c3a74803fa0d58a9d177c353bdfad1ef4f9b420ed381ff9d36a41d3a0'), 'blockNumber': 26, 'address': '0xF7a1E3A27A78Cce0f55a42cb276cc970BCe0124D', 'data': '0x000000000000000000000000000000000000000000000000002aa1efb94e0000000000000000000000000000000000000000000000000000a688906bd8b00000', 'topics': [HexBytes('0x6faf93231a456e552dbc9961f58d9713ee4f2e69d15f1975b050ef0911053a7b'), HexBytes('0x00000000000000000000000064c93047a1d2cb7493f978040fca141d7bceaccc'), HexBytes('0x00000000000000000000000064c93047a1d2cb7493f978040fca141d7bceaccc')], 'type': 'mined'}), AttributeDict({'logIndex': 2, 'transactionIndex': 0, 'transactionHash': HexBytes('0xedd82e52e2cc56409640f9dd0900aa6394afbd782bdf255a323089577c4b3d8d'), 'blockHash': HexBytes('0xb67be37c3a74803fa0d58a9d177c353bdfad1ef4f9b420ed381ff9d36a41d3a0'), 'blockNumber': 26, 'address': '0xF7a1E3A27A78Cce0f55a42cb276cc970BCe0124D', 'data': '0x000000000000000000000000000000000000000000000000002aa1efb94e0000', 'topics': [HexBytes('0xd56de72b04be4cf70c2bab5e6905fb51e28beb22f7a5d40a6dc4103149d61106')], 'type': 'mined'})], 'status': 1, 'logsBloom': HexBytes('0x00000000000000000000000000020000000000000000000000000000000000000000100000000000000000000000000040000000100000000000000000000000000000000010000000000008000000000000008000800000000000800000000000000000020040000000000000000800000000000000000000000010000000000000000000000000000000000200000000002000000000008000000000000000000000000000000000001000000000000000000000000000000000000000000000000002000000000000000000000000000000000000000000000000000020000000000000000000000000000000000000000800000000000000000000000008')})\n"
     ]
    }
   ],
   "source": [
    "print(receipt)"
   ]
  }
 ],
 "metadata": {
  "kernelspec": {
   "display_name": "Python 3.10.5 ('blockchain')",
   "language": "python",
   "name": "python3"
  },
  "language_info": {
   "codemirror_mode": {
    "name": "ipython",
    "version": 3
   },
   "file_extension": ".py",
   "mimetype": "text/x-python",
   "name": "python",
   "nbconvert_exporter": "python",
   "pygments_lexer": "ipython3",
   "version": "3.10.5"
  },
  "orig_nbformat": 4,
  "vscode": {
   "interpreter": {
    "hash": "99a381e16fa5190a2e20efd173027656285ece22f6a193524a50881d64cc73fa"
   }
  }
 },
 "nbformat": 4,
 "nbformat_minor": 2
}
